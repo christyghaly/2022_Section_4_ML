{
 "cells": [
  {
   "cell_type": "markdown",
   "metadata": {},
   "source": [
    "## Section 4\n",
    "### Decision Trees"
   ]
  },
  {
   "cell_type": "markdown",
   "metadata": {},
   "source": [
    "Decision Trees are Supervised Machine learning Algorithm, scikit-learn uses the CART algorithm.\n",
    "CART can be used for Classification and regression"
   ]
  },
  {
   "cell_type": "markdown",
   "metadata": {},
   "source": [
    "## CART Trees\n",
    "The representation for the CART model is a binary tree.It only gives two outputs from the node (True or False)"
   ]
  },
  {
   "cell_type": "markdown",
   "metadata": {},
   "source": [
    "<img src=\"CART_TREE.png\">"
   ]
  },
  {
   "cell_type": "markdown",
   "metadata": {},
   "source": [
    "##### Quick Example\n",
    "The following code trains a DecisionTreeClassifier on the iris dataset"
   ]
  },
  {
   "cell_type": "code",
   "execution_count": 8,
   "metadata": {},
   "outputs": [],
   "source": [
    "from sklearn.datasets import load_iris\n",
    "from sklearn.tree import DecisionTreeClassifier\n",
    "from sklearn.tree import export_graphviz\n",
    "\n",
    "iris = load_iris()\n",
    "X = iris.data[:, 2:] # petal length and width\n",
    "y = iris.target\n",
    "tree_clf = DecisionTreeClassifier(max_depth=2)\n",
    "tree_clf.fit(X, y)\n",
    "\n",
    "export_graphviz( #Export a decision tree in DOT format\n",
    "tree_clf,\n",
    "out_file=\"iris_tree.dot\",\n",
    "feature_names=iris.feature_names[2:],\n",
    "class_names=iris.target_names,\n",
    "rounded=True,\n",
    "filled=True\n",
    ")"
   ]
  },
  {
   "cell_type": "code",
   "execution_count": 9,
   "metadata": {},
   "outputs": [],
   "source": [
    "import pydot\n",
    "\n",
    "(graph,) = pydot.graph_from_dot_file('iris_tree.dot')\n",
    "graph.write_png('iris_tree.png')\n"
   ]
  },
  {
   "cell_type": "markdown",
   "metadata": {},
   "source": [
    "<img src=\"iris_tree.png\">"
   ]
  },
  {
   "cell_type": "markdown",
   "metadata": {},
   "source": [
    "####  How prediction works:\n",
    "Suppose you find an iris flower and you want to classify it.\n",
    "\n",
    "You start at the root node (depth 0, at the top): this node asks whether the flower’s petal length is smaller than 2.45 cm or its petal width <=0.8\n",
    "1. If it is, then you move down to the root’s left child node (depth 1, left). In this case, it is a leaf node setosa class.\n",
    "2. If it is not (petal length is greater than 2.45 cm) : You must move down to the root’s right child node (depth 1, right) which is not a leaf node.\n",
    "3. It asks anotherquestion: is the petal width smaller than 1.75 cm?\n",
    "4. If it is, Then go to the next level to the left which is a leaf node versicolor class.\n",
    "5. If it is not, Then go to the next level to the right which is a leaf node virginica class."
   ]
  },
  {
   "cell_type": "markdown",
   "metadata": {},
   "source": [
    "#### Nodes calculations:\n",
    "Each node contain a condition which the question that spearate the data and it have different attributes to calculate such as samples, value, and gini.\n",
    "\n",
    "#### samples\n",
    "A node’s samples attribute counts how many training instances it applies to. For example. the iris flower dataset contains 150 training samples which are counted at the root. Then, 100 samples have petal length greater than 2.45 cm at level 1 right node. Furthermore, the 100 samples contains 54 versicolor class and 46 virginica class as counted in the right leafs.\n",
    "\n",
    "#### values\n",
    "A nodes's Value represents tells you how many training instances of each class this node applies to.for example, the bottom-right node applies to 0 Iris-Setosa, 1 IrisVersicolor, and 45 Iris-Virginica\n",
    "\n",
    "gini\n",
    "a node’s gini attribute measures its impurity: a node is pure (gini=0) if all training instances it applies to belong to the same class. For example, since the depth-1 left node applies only to Iris-Setosa training instances, it is pure and its gini score is 0. The following equation calculates score Gi of the ith node:\n",
    "\n"
   ]
  },
  {
   "cell_type": "markdown",
   "metadata": {},
   "source": [
    "$$ G_{i} = 1 - \\sum_{k=1}^{n} P_{i,k}^{2} $$\n"
   ]
  },
  {
   "cell_type": "markdown",
   "metadata": {},
   "source": [
    "Where Pi,kis the ratio of class k instances among the training instances in the ith node.\n",
    "\n",
    "For example, the depth-2 left node has a gini score equal to $$ 1 – {(0/54)}^{2} – {(49/54)}^{2} – {(5/54)}^{2} ≈ 0.168. $$ \n",
    "\n",
    "The following figure shows Decision Tree’s decision boundaries. The thick vertical line represents the decision boundary of the root node (depth 0): petal length = 2.45 cm. Since the left area is pure (only Iris-Setosa), it cannot be split any further. However, the right area is impure, so the depth-1 right node splits it at petal width = 1.75 cm (represented by the dashed line). Since max_depth was set to 2, the Decision Tree stops right there. However, if you set max_depth to 3, then the two depth-2 nodes would each add another decision boundary"
   ]
  },
  {
   "cell_type": "markdown",
   "metadata": {},
   "source": [
    "<img src=\"irisGraph.png\">"
   ]
  },
  {
   "cell_type": "markdown",
   "metadata": {},
   "source": [
    "\n",
    "#### Probability Estimation\n",
    "A Decision Tree can also estimate the probability that an instance belongs to a particular class k: first it traverses the tree to find the leaf node for this instance, and then it returns the ratio of training instances of class k in this node. For example, suppose you have found a flower whose petals are 5 cm long and 1.5 cm wide. The corresponding leaf node is the depth-2 left node, so the Decision Tree should output the following probabilities: 0% for Iris-Setosa (0/54), 90.7% for Iris-Versicolor (49/54), and 9.3% for IrisVirginica (5/54). And of course if you ask it to predict the class, it should output Iris-Versicolor (class 1) since it has the highest probability."
   ]
  },
  {
   "cell_type": "code",
   "execution_count": 10,
   "metadata": {},
   "outputs": [
    {
     "data": {
      "text/plain": [
       "array([[0.        , 0.90740741, 0.09259259]])"
      ]
     },
     "execution_count": 10,
     "metadata": {},
     "output_type": "execute_result"
    }
   ],
   "source": [
    "tree_clf.predict_proba([[5, 1.5]])"
   ]
  },
  {
   "cell_type": "code",
   "execution_count": 11,
   "metadata": {},
   "outputs": [
    {
     "data": {
      "text/plain": [
       "array([1])"
      ]
     },
     "execution_count": 11,
     "metadata": {},
     "output_type": "execute_result"
    }
   ],
   "source": [
    "tree_clf.predict([[5, 1.5]])"
   ]
  },
  {
   "cell_type": "markdown",
   "metadata": {},
   "source": [
    "#### How Can It gets the Split points and the best Feature ???\n",
    "\n",
    "Creating a CART model involves selecting input variables and split points on those variables until a suitable tree is constructed.\n",
    "\n",
    "The selection of which input variable to use and the specific split or cut-point is chosen using by minimizing a cost function(i.e  It searches for the pair (feature \"k\", threshold \"tk\") that produces the purest subsets). Tree construction ends using a predefined stopping criterion, such as a minimum number of training instances assigned to each leaf node of the tree."
   ]
  },
  {
   "cell_type": "markdown",
   "metadata": {},
   "source": [
    "for example: the algorithm first splits the training set in two subsets using a single feature k and a threshold\n",
    "tk (e.g., “petal length ≤ 2.45 cm”) based on searching for the pair that minimizes the cost function."
   ]
  },
  {
   "cell_type": "markdown",
   "metadata": {},
   "source": [
    "#### Cost Function that is minimized in Classification\n",
    "<img src=\"Cost_fun_class.png\">"
   ]
  },
  {
   "cell_type": "markdown",
   "metadata": {},
   "source": [
    "### CART for Regression"
   ]
  },
  {
   "cell_type": "markdown",
   "metadata": {},
   "source": [
    "#### Cost Function that is minimized in Regression\n",
    "<img src=\"Cost_fun_regression.png\">"
   ]
  },
  {
   "cell_type": "code",
   "execution_count": 12,
   "metadata": {},
   "outputs": [
    {
     "data": {
      "image/png": "[encoded data removed]",
      "text/plain": [
       "<Figure size 432x288 with 1 Axes>"
      ]
     },
     "metadata": {
      "needs_background": "light"
     },
     "output_type": "display_data"
    }
   ],
   "source": [
    "import numpy as np\n",
    "np.random.seed(42)\n",
    "L = 2 * np.random.rand(200, 1)\n",
    "F = 4 + 3 * L + np.random.randn(200, 1)\n",
    "import matplotlib.pyplot as plt\n",
    "plt.plot(L, F, \"b.\")\n",
    "plt.axis([0, 2, 0,12 ])\n",
    "plt.show()"
   ]
  },
  {
   "cell_type": "code",
   "execution_count": 13,
   "metadata": {},
   "outputs": [
    {
     "data": {
      "text/plain": [
       "DecisionTreeRegressor(max_depth=2)"
      ]
     },
     "execution_count": 13,
     "metadata": {},
     "output_type": "execute_result"
    }
   ],
   "source": [
    "from sklearn.tree import DecisionTreeRegressor\n",
    "tree_reg = DecisionTreeRegressor(max_depth=2)\n",
    "tree_reg.fit(L, F)"
   ]
  },
  {
   "cell_type": "code",
   "execution_count": 14,
   "metadata": {},
   "outputs": [],
   "source": [
    "export_graphviz( #Export a decision tree in DOT format\n",
    "tree_reg,\n",
    "out_file=\"regression_tree.dot\",\n",
    "rounded=True,\n",
    "filled=True\n",
    ")\n",
    "import pydot\n",
    "\n",
    "(graph,) = pydot.graph_from_dot_file('regression_tree.dot')\n",
    "graph.write_png('regression_tree.png')"
   ]
  },
  {
   "cell_type": "markdown",
   "metadata": {},
   "source": [
    "<img src='regression_tree.png'>"
   ]
  },
  {
   "cell_type": "markdown",
   "metadata": {},
   "source": [
    "Value Here is The prediction which is simply the average target value of the training\n",
    "instances associated to this leaf node."
   ]
  },
  {
   "cell_type": "code",
   "execution_count": 15,
   "metadata": {},
   "outputs": [],
   "source": [
    "X=np.array([[1.6], [0.1]])\n",
    "Y_predict =tree_reg.predict(X)"
   ]
  },
  {
   "cell_type": "code",
   "execution_count": 16,
   "metadata": {},
   "outputs": [
    {
     "data": {
      "image/png": "[encoded data removed]",
      "text/plain": [
       "<Figure size 432x288 with 1 Axes>"
      ]
     },
     "metadata": {
      "needs_background": "light"
     },
     "output_type": "display_data"
    }
   ],
   "source": [
    "plt.plot(X, Y_predict, \"r-\")\n",
    "plt.plot(L, F, \"b.\")\n",
    "plt.axis([0, 2, 0,12 ])\n",
    "plt.show()"
   ]
  },
  {
   "cell_type": "markdown",
   "metadata": {},
   "source": [
    "### Regularization Hyperparameters\n",
    "The DecisionTreeClassifier and DecisionTreeRegressor class has a few other parameters that similarly restrict\n",
    "the shape of the Decision Tree: \n",
    "* min_samples_split (the minimum number of samples a node must have before it can be split)\n",
    "* min_samples_leaf (the minimum number of samples a leaf node must have)\n",
    "* max_leaf_nodes (maximum number of leaf nodes)"
   ]
  },
  {
   "cell_type": "markdown",
   "metadata": {},
   "source": [
    "###### Effect of Regularizing a Decision Tree regressor\n",
    "<img src=\"Regularized.PNG\">"
   ]
  },
  {
   "cell_type": "markdown",
   "metadata": {},
   "source": [
    "##### Bias and Variance\n",
    "<img src=\"Bias_Variance_SquigglyLine.png\">\n",
    "\n",
    "<img src=\"Bias_VarianceLinearRegression.png\">"
   ]
  },
  {
   "cell_type": "markdown",
   "metadata": {},
   "source": [
    "###### Ridge and Lasso Regression\n",
    "Linear Regression Regularization:A good way to reduce overfitting is to regularize the model \n",
    "\n",
    "Both models adds a regularization term to the cost function\n",
    "\n",
    "For a linear model, regularization is typically achieved by constraining the weights of\n",
    "the model. Ridge Regression and Lasso Regression are examples, which implement two different ways to constrain the weights\n",
    "\n",
    "example: if the two red are the training data and the green dots are the testing data, then if we use a Linear regression model the red line will be the fitted model\n",
    "<img src=\"LinearRegression.png\">"
   ]
  },
  {
   "cell_type": "markdown",
   "metadata": {},
   "source": [
    "###### Ridge Regression :\n",
    "\n",
    "what if we used different cost function for minimization\n",
    "Cost function: J($\\theta$) = MSE+$\\lambda$ $slope^2$\n",
    "\n",
    "The slope decreases as:\n",
    "$slope_{new}$= $slope_{old}$-learningRate*gradients\n",
    "\n",
    "[Please see this link for more mathematical info](https://www.kaggle.com/residentmario/ridge-regression-cost-function)\n",
    "\n",
    "\n",
    "since now the gradient is bigger then the slope is smaller.\n",
    "\n",
    "\n",
    "Note that: the blue line is RidgeRegression line, so we permitted some bias in order to decrease the variance \n",
    "<img src=\"RidgeVsLinearRegression_2.png\">\n"
   ]
  },
  {
   "cell_type": "markdown",
   "metadata": {},
   "source": [
    "As lambda increase the slope decrease\n",
    "<img src=\"DecreaseSlopeAsLambdaIncrease.png\">"
   ]
  },
  {
   "cell_type": "markdown",
   "metadata": {},
   "source": [
    "###### Lasso Regression (Least Absolute Shrinkage and Selection Operator Regression):\n",
    "Lasso regression is the same as the Ridge regression but its cost function \n",
    "Cost function: J($\\theta$) = MSE+$\\lambda$ $slope$\n",
    "\n",
    "An important characteristic of Lasso Regression is that it tends to completely eliminate\n",
    "the weights of the least important features (i.e., set them to zero) but in case of Ridge regression the reguralized minimum get closer to zero but not equal zero."
   ]
  },
  {
   "cell_type": "markdown",
   "metadata": {},
   "source": [
    "[Link](https://youtu.be/z8otLG2cJVg)"
   ]
  },
  {
   "cell_type": "code",
   "execution_count": null,
   "metadata": {},
   "outputs": [],
   "source": [
    "\n"
   ]
  },
  {
   "cell_type": "code",
   "execution_count": null,
   "metadata": {},
   "outputs": [],
   "source": []
  },
  {
   "cell_type": "code",
   "execution_count": null,
   "metadata": {},
   "outputs": [],
   "source": []
  }
 ],
 "metadata": {
  "kernelspec": {
   "display_name": "Python 3",
   "language": "python",
   "name": "python3"
  },
  "language_info": {
   "codemirror_mode": {
    "name": "ipython",
    "version": 3
   },
   "file_extension": ".py",
   "mimetype": "text/x-python",
   "name": "python",
   "nbconvert_exporter": "python",
   "pygments_lexer": "ipython3",
   "version": "3.8.5"
  }
 },
 "nbformat": 4,
 "nbformat_minor": 4
}
